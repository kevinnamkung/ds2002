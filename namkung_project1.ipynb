{
 "cells": [
  {
   "cell_type": "code",
   "execution_count": 135,
   "metadata": {},
   "outputs": [],
   "source": [
    "import json\n",
    "import requests\n",
    "import pandas as pd\n",
    "import csv\n",
    "import sqlite3\n",
    "from sqlalchemy import create_engine"
   ]
  },
  {
   "cell_type": "code",
   "execution_count": 136,
   "metadata": {},
   "outputs": [],
   "source": [
    "#import csv file\n",
    "df = pd.read_csv(r'C:\\Users\\kevin\\OneDrive\\Desktop\\5th Sem\\ds2002\\stats.csv')"
   ]
  },
  {
   "cell_type": "code",
   "execution_count": 137,
   "metadata": {},
   "outputs": [],
   "source": [
    "#modify data: delete two columns and rename one\n",
    "del df['hit_woodwork']\n",
    "del df['clearance_off_line']\n",
    "df = df.rename(columns={'total_red_card': 'red_cards'})"
   ]
  },
  {
   "cell_type": "code",
   "execution_count": 138,
   "metadata": {},
   "outputs": [
    {
     "name": "stdout",
     "output_type": "stream",
     "text": [
      "Invalid Output\n"
     ]
    }
   ],
   "source": [
    "#convert to other types\n",
    "output_type = input(\"enter your output type: json, sql\")\n",
    "if output_type == 'json':\n",
    "    df_json = df.to_json()\n",
    "elif output_type == 'sql':\n",
    "    engine = create_engine('sqlite://',echo = False)\n",
    "    df_sql = df.to_sql(\"Stats\", engine)\n",
    "else:\n",
    "    print(\"Invalid Output\")\n"
   ]
  },
  {
   "cell_type": "code",
   "execution_count": 139,
   "metadata": {},
   "outputs": [],
   "source": [
    "#write respective file locally or to sql database\n",
    "if output_type == 'json':\n",
    "    with open('pl_json.json','w') as outfile:\n",
    "        json.dump(df_json, outfile)\n",
    "elif output_type == 'sql':\n",
    "    connection = sqlite3.connect('../sqlite.db')\n",
    "    with open('../dump.sql', 'w') as outfile:\n",
    "        for line in connection.iterdump():\n",
    "            outfile.write('%s\\n' % line)\n",
    "else:\n",
    "    df.to_csv('pl_csv')"
   ]
  }
 ],
 "metadata": {
  "kernelspec": {
   "display_name": "Python 3.6.4 64-bit",
   "language": "python",
   "name": "python3"
  },
  "language_info": {
   "codemirror_mode": {
    "name": "ipython",
    "version": 3
   },
   "file_extension": ".py",
   "mimetype": "text/x-python",
   "name": "python",
   "nbconvert_exporter": "python",
   "pygments_lexer": "ipython3",
   "version": "3.6.4"
  },
  "orig_nbformat": 4,
  "vscode": {
   "interpreter": {
    "hash": "f4e9cda46bb2d9d7fe6ecdff0f8336a934348bf06cb492f2f42f60739b3403b4"
   }
  }
 },
 "nbformat": 4,
 "nbformat_minor": 2
}
